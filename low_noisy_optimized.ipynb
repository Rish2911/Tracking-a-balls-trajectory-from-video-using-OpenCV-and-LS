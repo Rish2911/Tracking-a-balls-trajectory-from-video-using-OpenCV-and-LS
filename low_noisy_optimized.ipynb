{
  "cells": [
    {
      "cell_type": "code",
      "execution_count": 1,
      "metadata": {
        "id": "BFNlpPfFwoU9"
      },
      "outputs": [
        {
          "name": "stdout",
          "output_type": "stream",
          "text": [
            "(2488, 3520)\n",
            "(2488, 3520)\n",
            "(2488, 3520)\n",
            "(2488, 3520)\n",
            "(2488, 3520)\n",
            "(2488, 3520)\n",
            "(2488, 3520)\n",
            "(2488, 3520)\n",
            "(2488, 3520)\n",
            "(2488, 3520)\n",
            "(2488, 3520)\n",
            "(2488, 3520)\n",
            "(2488, 3520)\n",
            "(2488, 3520)\n",
            "(2488, 3520)\n",
            "(2488, 3520)\n",
            "(2488, 3520)\n",
            "(2488, 3520)\n",
            "(2488, 3520)\n",
            "(2488, 3520)\n",
            "(2488, 3520)\n",
            "(2488, 3520)\n",
            "(2488, 3520)\n",
            "(2488, 3520)\n"
          ]
        },
        {
          "data": {
            "image/png": "[encoded data removed]",
            "text/plain": [
              "<Figure size 432x288 with 1 Axes>"
            ]
          },
          "metadata": {
            "needs_background": "light"
          },
          "output_type": "display_data"
        }
      ],
      "source": [
        "import cv2\n",
        "import numpy as np\n",
        "import matplotlib.pyplot as plt\n",
        "import math as ma\n",
        "# import sympy as sp\n",
        "\n",
        "i = 0\n",
        "x_top = []\n",
        "y_top = []\n",
        "x_bottom = []\n",
        "y_bottom = []\n",
        "x_mean = []\n",
        "y_mean = []\n",
        "x_2 = []\n",
        "x_unit = []\n",
        "\n",
        "\n",
        "# cap = cv2.VideoCapture('frames/noisy/cv2-red-channel_noisy_0.png')\n",
        "cap = cv2.VideoCapture('ball_video2.mp4')\n",
        "# path = 'home/divyansh/vid_img'\n",
        "while(cap.isOpened()):\n",
        "    stop_top = False\n",
        "    stop_bottom = False\n",
        "    ret, frame = cap.read()\n",
        "    if ret == False:\n",
        "        break\n",
        "    red_channel = frame[:,:,2]\n",
        "    cons = 255\n",
        "    red_channel = cons - red_channel\n",
        "    print(np.shape(red_channel))\n",
        "\n",
        "    #result = np.max(red_channel, axis=1)\n",
        "    result = (np.where((red_channel>25) & (red_channel<30)))\n",
        "    y_top.append(2488 - result[0][0])\n",
        "    x_top.append(result[1][0])\n",
        "    y_bottom.append(2488 - result[0][-1])\n",
        "    x_bottom.append(result[1][-1])\n",
        "\n",
        "           \n",
        "            \n",
        "        \n",
        "    if cv2.waitKey(10) & 0xFF == ord('q'):\n",
        "        break\n",
        "# print(x_top)\n",
        "# print(y_top)\n",
        "# print(x_bottom)\n",
        "# print(y_bottom)\n",
        "\n",
        "[x_mean.append((g + h) / 2) for g, h in zip(x_top, x_bottom)]\n",
        "[y_mean.append((g + h) / 2) for g, h in zip(y_top, y_bottom)]\n",
        "\n",
        "# print('the mean is ', x_mean)\n",
        "# print('the mean of y is', y_mean)\n",
        "\n",
        "\n",
        "plt.scatter(x_top, y_top, c='r')\n",
        "plt.scatter(x_bottom, y_bottom, c='b')\n",
        "plt.scatter(x_mean, y_mean, c='g')\n",
        "plt.show()\n",
        "# print(x_top, x_bottom, y_top, y_bottom)\n"
      ]
    },
    {
      "cell_type": "markdown",
      "metadata": {
        "id": "MxXmNxZ7wr-V"
      },
      "source": [
        "Least square curve fitting"
      ]
    },
    {
      "cell_type": "code",
      "execution_count": 2,
      "metadata": {
        "id": "IYe35JFewtck"
      },
      "outputs": [
        {
          "name": "stdout",
          "output_type": "stream",
          "text": [
            "this is x square [[6.00625000e+03 2.08802500e+04 3.33062500e+04 7.61760000e+04\n",
            "  1.28881000e+05 2.23256250e+05 2.88369000e+05 4.38244000e+05\n",
            "  5.40960250e+05 8.13604000e+05 9.83072250e+05 1.28482225e+06\n",
            "  1.65894400e+06 2.11848025e+06 2.82408025e+06 3.48009025e+06\n",
            "  4.30355025e+06 5.31994225e+06 6.44144400e+06 7.36308225e+06\n",
            "  8.42160400e+06 1.00838002e+07 1.02240062e+07 1.15056640e+07]]\n"
          ]
        }
      ],
      "source": [
        "[x_2.append(i**2) for i in x_mean]\n",
        "[x_unit.append(1) for i in x_mean]\n",
        "\n",
        "x_2 = np.matrix(x_2)\n",
        "print('this is x square', x_2)\n",
        "x_2 = x_2.transpose()\n",
        "x_1 = np.matrix(x_mean)\n",
        "x_1 = x_1.transpose()\n",
        "x_unit = np.matrix(x_unit)\n",
        "x_unit = x_unit.transpose()\n",
        "\n",
        "\n",
        "\n"
      ]
    },
    {
      "cell_type": "code",
      "execution_count": 3,
      "metadata": {},
      "outputs": [
        {
          "name": "stdout",
          "output_type": "stream",
          "text": [
            "-0.0004625 [[1.6459103]] [[37.4662236]]\n"
          ]
        }
      ],
      "source": [
        "A = np.hstack((x_2, x_1, x_unit))\n",
        "A = np.matrix(A)\n",
        "A_t = A.transpose()\n",
        "\n",
        "Y = np.matrix(y_mean)\n",
        "Y = Y.transpose()\n",
        "\n",
        "A_inv = A_t*A\n",
        "A_inv = np.linalg.inv(A_inv)\n",
        "\n",
        "X = (A_inv)*A_t*Y\n",
        "a = X[0].round(7)\n",
        "b = X[1].round(7)\n",
        "c = X[2].round(7)\n",
        "print(a[0,0], b, c)"
      ]
    },
    {
      "cell_type": "code",
      "execution_count": 4,
      "metadata": {},
      "outputs": [
        {
          "name": "stdout",
          "output_type": "stream",
          "text": [
            "(3520, 1)\n"
          ]
        }
      ],
      "source": [
        "x_gen = range(3520)\n",
        "x_gen_m = np.matrix(x_gen)\n",
        "x_gen_m = x_gen_m.transpose()\n",
        "print(np.shape(x_gen_m))"
      ]
    },
    {
      "cell_type": "code",
      "execution_count": 5,
      "metadata": {},
      "outputs": [
        {
          "name": "stdout",
          "output_type": "stream",
          "text": [
            "(3520, 1)\n"
          ]
        }
      ],
      "source": [
        "x_gen_sq = []\n",
        "[x_gen_sq.append(i**2) for i in x_gen]\n",
        "x_gen_sq = np.matrix(x_gen_sq)\n",
        "x_gen_sq = x_gen_sq.transpose()\n",
        "\n",
        "print(np.shape(x_gen_sq))"
      ]
    },
    {
      "cell_type": "code",
      "execution_count": 6,
      "metadata": {},
      "outputs": [
        {
          "name": "stdout",
          "output_type": "stream",
          "text": [
            "1220.8765236\n"
          ]
        }
      ],
      "source": [
        "y_gen = np.matrix(np.shape(x_gen_sq))\n",
        "# x_gen_sq = np.array(x_gen_sq)\n",
        "y_gen = a[0,0]*x_gen_sq + b[0,0]*x_gen_m + c[0,0]\n",
        "print(y_gen[1000,0])"
      ]
    },
    {
      "cell_type": "code",
      "execution_count": 7,
      "metadata": {},
      "outputs": [
        {
          "data": {
            "image/png": "[encoded data removed]",
            "text/plain": [
              "<Figure size 432x288 with 1 Axes>"
            ]
          },
          "metadata": {
            "needs_background": "light"
          },
          "output_type": "display_data"
        }
      ],
      "source": [
        "x_plot = x_gen_m.transpose()\n",
        "x_plot = np.array(x_plot)\n",
        "x_plot = x_plot.flatten()\n",
        "x_l = x_plot.tolist()\n",
        "# print(x_l)\n",
        "y_plot = y_gen.transpose()\n",
        "y_plot = np.array(y_plot)\n",
        "y_plot = y_plot.flatten()\n",
        "y_l = y_plot.tolist()\n",
        "# print(y_l)\n",
        "plt.scatter(x_top, y_top, c='r')\n",
        "plt.scatter(x_bottom, y_bottom, c='b')\n",
        "plt.scatter(x_mean, y_mean, c='g')\n",
        "plt.scatter(x_l, y_l)\n",
        "plt.show()"
      ]
    },
    {
      "cell_type": "code",
      "execution_count": null,
      "metadata": {},
      "outputs": [],
      "source": []
    }
  ],
  "metadata": {
    "colab": {
      "collapsed_sections": [],
      "name": "Untitled5.ipynb",
      "provenance": []
    },
    "kernelspec": {
      "display_name": "Python 3",
      "name": "python3"
    },
    "language_info": {
      "codemirror_mode": {
        "name": "ipython",
        "version": 3
      },
      "file_extension": ".py",
      "mimetype": "text/x-python",
      "name": "python",
      "nbconvert_exporter": "python",
      "pygments_lexer": "ipython3",
      "version": "3.9.7"
    }
  },
  "nbformat": 4,
  "nbformat_minor": 0
}
