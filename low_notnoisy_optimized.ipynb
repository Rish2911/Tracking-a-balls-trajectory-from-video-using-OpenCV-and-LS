{
  "cells": [
    {
      "cell_type": "code",
      "execution_count": 18,
      "metadata": {
        "id": "BFNlpPfFwoU9"
      },
      "outputs": [
        {
          "data": {
            "image/png": "[encoded data removed]",
            "text/plain": [
              "<Figure size 432x288 with 1 Axes>"
            ]
          },
          "metadata": {
            "needs_background": "light"
          },
          "output_type": "display_data"
        }
      ],
      "source": [
        "import cv2\n",
        "import numpy as np\n",
        "import matplotlib.pyplot as plt\n",
        "import math as ma\n",
        "# import sympy as sp\n",
        "\n",
        "i = 0\n",
        "x_top = []\n",
        "y_top = []\n",
        "x_bottom = []\n",
        "y_bottom = []\n",
        "x_mean = []\n",
        "y_mean = []\n",
        "x_2 = []\n",
        "x_unit = []\n",
        "\n",
        "\n",
        "# cap = cv2.VideoCapture('frames/noisy/cv2-red-channel_noisy_0.png')\n",
        "cap = cv2.VideoCapture('ball_video1.mp4')\n",
        "# path = 'home/divyansh/vid_img'\n",
        "while(cap.isOpened()):\n",
        "    stop_top = False\n",
        "    stop_bottom = False\n",
        "    ret, frame = cap.read()\n",
        "    if ret == False:\n",
        "        break\n",
        "    red_channel = frame[:,:,2]\n",
        "    cons = 255\n",
        "    print(np.shape(red_channel))\n",
        "    red_channel = cons - red_channel\n",
        "\n",
        "    #result = np.max(red_channel, axis=1)\n",
        "    #selecting the threshold\n",
        "    result = (np.where((red_channel>40) & (red_channel<42)))\n",
        "    y_top.append(1676 - result[0][0])\n",
        "    x_top.append(result[1][0])\n",
        "    y_bottom.append(1676 - result[0][-1])\n",
        "    x_bottom.append(result[1][-1])\n",
        "    \n",
        "            \n",
        "            \n",
        "        \n",
        "    if cv2.waitKey(10) & 0xFF == ord('q'):\n",
        "        break\n",
        "\n",
        "\n",
        "[x_mean.append((g + h) / 2) for g, h in zip(x_top, x_bottom)]\n",
        "[y_mean.append((g + h) / 2) for g, h in zip(y_top, y_bottom)]\n",
        "\n",
        "\n",
        "\n",
        "plt.scatter(x_top, y_top, c='r')\n",
        "plt.scatter(x_bottom, y_bottom, c='b')\n",
        "plt.scatter(x_mean, y_mean, c='g')\n",
        "plt.show()\n",
        "# print(x_top, x_bottom, y_top, y_bottom)\n"
      ]
    },
    {
      "cell_type": "markdown",
      "metadata": {
        "id": "MxXmNxZ7wr-V"
      },
      "source": [
        "next part"
      ]
    },
    {
      "cell_type": "code",
      "execution_count": 19,
      "metadata": {
        "id": "IYe35JFewtck"
      },
      "outputs": [
        {
          "name": "stdout",
          "output_type": "stream",
          "text": [
            "this is x square [[5.32900000e+03 9.50625000e+03 1.79560000e+04 3.40402500e+04\n",
            "  6.32522500e+04 9.89102500e+04 1.42506250e+05 2.14369000e+05\n",
            "  3.04152250e+05 4.28370250e+05 5.73806250e+05 7.15716000e+05\n",
            "  9.17764000e+05 1.11936400e+06 1.34792100e+06 1.57377025e+06\n",
            "  1.85232100e+06 2.22755625e+06 2.48850625e+06 2.84765625e+06\n",
            "  3.16128400e+06 3.51187600e+06 3.98601225e+06 4.33680625e+06\n",
            "  4.62895225e+06 4.85982025e+06 5.23265625e+06 5.48496400e+06]]\n",
            "this is x_unit [[1]\n",
            " [1]\n",
            " [1]\n",
            " [1]\n",
            " [1]\n",
            " [1]\n",
            " [1]\n",
            " [1]\n",
            " [1]\n",
            " [1]\n",
            " [1]\n",
            " [1]\n",
            " [1]\n",
            " [1]\n",
            " [1]\n",
            " [1]\n",
            " [1]\n",
            " [1]\n",
            " [1]\n",
            " [1]\n",
            " [1]\n",
            " [1]\n",
            " [1]\n",
            " [1]\n",
            " [1]\n",
            " [1]\n",
            " [1]\n",
            " [1]]\n"
          ]
        }
      ],
      "source": [
        "[x_2.append(i**2) for i in x_mean]\n",
        "[x_unit.append(1) for i in x_mean]\n",
        "\n",
        "x_2 = np.matrix(x_2)\n",
        "print('this is x square', x_2)\n",
        "x_2 = x_2.transpose()\n",
        "x_1 = np.matrix(x_mean)\n",
        "x_1 = x_1.transpose()\n",
        "x_unit = np.matrix(x_unit)\n",
        "x_unit = x_unit.transpose()\n",
        "\n",
        "print('this is x_unit', x_unit)\n",
        "\n"
      ]
    },
    {
      "cell_type": "code",
      "execution_count": 25,
      "metadata": {},
      "outputs": [
        {
          "name": "stdout",
          "output_type": "stream",
          "text": [
            "-0.0007714512 [[1.85843762]] [[103.56264919]]\n"
          ]
        }
      ],
      "source": [
        "A = np.hstack((x_2, x_1, x_unit))\n",
        "A = np.matrix(A)\n",
        "A_t = A.transpose()\n",
        "\n",
        "Y = np.matrix(y_mean)\n",
        "Y = Y.transpose()\n",
        "\n",
        "A_inv = A_t*A\n",
        "A_inv = np.linalg.inv(A_inv)\n",
        "\n",
        "X = (A_inv)*A_t*Y\n",
        "a = X[0].round(10)\n",
        "b = X[1].round(10)\n",
        "c = X[2].round(10)\n",
        "print(a[0,0], b, c)"
      ]
    },
    {
      "cell_type": "code",
      "execution_count": 26,
      "metadata": {},
      "outputs": [
        {
          "name": "stdout",
          "output_type": "stream",
          "text": [
            "(2400, 1)\n"
          ]
        }
      ],
      "source": [
        "x_gen = range(2400)\n",
        "x_gen_m = np.matrix(x_gen)\n",
        "x_gen_m = x_gen_m.transpose()\n",
        "print(np.shape(x_gen_m))"
      ]
    },
    {
      "cell_type": "code",
      "execution_count": 27,
      "metadata": {},
      "outputs": [
        {
          "name": "stdout",
          "output_type": "stream",
          "text": [
            "(2400, 1)\n"
          ]
        }
      ],
      "source": [
        "x_gen_sq = []\n",
        "[x_gen_sq.append(i**2) for i in x_gen]\n",
        "x_gen_sq = np.matrix(x_gen_sq)\n",
        "x_gen_sq = x_gen_sq.transpose()\n",
        "\n",
        "print(np.shape(x_gen_sq))"
      ]
    },
    {
      "cell_type": "code",
      "execution_count": 28,
      "metadata": {},
      "outputs": [
        {
          "name": "stdout",
          "output_type": "stream",
          "text": [
            "1190.5490660925002\n"
          ]
        }
      ],
      "source": [
        "y_gen = np.matrix(np.shape(x_gen_sq))\n",
        "# x_gen_sq = np.array(x_gen_sq)\n",
        "y_gen = a[0,0]*x_gen_sq + b[0,0]*x_gen_m + c[0,0]\n",
        "print(y_gen[1000,0])"
      ]
    },
    {
      "cell_type": "code",
      "execution_count": 30,
      "metadata": {},
      "outputs": [
        {
          "data": {
            "image/png": "[encoded data removed]",
            "text/plain": [
              "<Figure size 432x288 with 1 Axes>"
            ]
          },
          "metadata": {
            "needs_background": "light"
          },
          "output_type": "display_data"
        }
      ],
      "source": [
        "x_plot = x_gen_m.transpose()\n",
        "x_plot = np.array(x_plot)\n",
        "x_plot = x_plot.flatten()\n",
        "x_l = x_plot.tolist()\n",
        "# print(x_l)\n",
        "y_plot = y_gen.transpose()\n",
        "y_plot = np.array(y_plot)\n",
        "y_plot = y_plot.flatten()\n",
        "y_l = y_plot.tolist()\n",
        "# print(y_l)\n",
        "plt.scatter(x_top, y_top, c='r')\n",
        "plt.scatter(x_bottom, y_bottom, c='b')\n",
        "plt.scatter(x_mean, y_mean, c='g')\n",
        "plt.scatter(x_l, y_l)\n",
        "plt.show()"
      ]
    }
  ],
  "metadata": {
    "colab": {
      "collapsed_sections": [],
      "name": "Untitled5.ipynb",
      "provenance": []
    },
    "kernelspec": {
      "display_name": "Python 3",
      "name": "python3"
    },
    "language_info": {
      "codemirror_mode": {
        "name": "ipython",
        "version": 3
      },
      "file_extension": ".py",
      "mimetype": "text/x-python",
      "name": "python",
      "nbconvert_exporter": "python",
      "pygments_lexer": "ipython3",
      "version": "3.9.7"
    }
  },
  "nbformat": 4,
  "nbformat_minor": 0
}
